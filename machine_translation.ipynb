{
 "cells": [
  {
   "cell_type": "markdown",
   "metadata": {},
   "source": [
    "# Date Translation with Attention"
   ]
  },
  {
   "cell_type": "code",
   "execution_count": 12,
   "metadata": {
    "colab": {
     "base_uri": "https://localhost:8080/"
    },
    "executionInfo": {
     "elapsed": 14508,
     "status": "ok",
     "timestamp": 1612468511651,
     "user": {
      "displayName": "Mubsi K",
      "photoUrl": "https://lh3.googleusercontent.com/a-/AOh14Gip7OjOkdNkKxKDyWEQAq1o8ccGN_HrBTGdqjgQ=s64",
      "userId": "08094225471505108399"
     },
     "user_tz": -300
    },
    "id": "RcBRMzPiiMmp",
    "outputId": "17e9a429-5bb6-4401-a23a-f8f756d6113d"
   },
   "outputs": [],
   "source": [
    "from tensorflow.keras.layers import Bidirectional, Concatenate, Permute, Dot, Input, LSTM, Multiply\n",
    "from tensorflow.keras.layers import RepeatVector, Dense, Activation, Lambda\n",
    "from tensorflow.keras.optimizers import Adam\n",
    "from tensorflow.keras.utils import to_categorical\n",
    "from tensorflow.keras.models import load_model, Model\n",
    "import tensorflow.keras.backend as K\n",
    "import tensorflow as tf\n",
    "import numpy as np\n",
    "\n",
    "from faker import Faker\n",
    "import random\n",
    "from tqdm import tqdm\n",
    "from babel.dates import format_date\n",
    "from utils import *\n",
    "import matplotlib.pyplot as plt\n",
    "%matplotlib inline"
   ]
  },
  {
   "cell_type": "markdown",
   "metadata": {
    "id": "8BhEaJvph3Mf"
   },
   "source": [
    "<a name='1-1'></a>\n",
    "### Dataset\n",
    "\n",
    "We will train the model on a dataset of 10,000 human readable dates and their equivalent, standardized, machine readable dates. Let's run the following cells to load the dataset and print some examples. "
   ]
  },
  {
   "cell_type": "code",
   "execution_count": 39,
   "metadata": {},
   "outputs": [],
   "source": [
    "fake = Faker()\n",
    "Faker.seed(12345)\n",
    "random.seed(12345)\n",
    "\n",
    "FORMATS = ['short',\n",
    "           'medium',\n",
    "           'long',\n",
    "           'full',\n",
    "           'full',\n",
    "           'full',\n",
    "           'full',\n",
    "           'full',\n",
    "           'full',\n",
    "           'full',\n",
    "           'full',\n",
    "           'full',\n",
    "           'full',\n",
    "           'd MMM YYY', \n",
    "           'd MMMM YYY',\n",
    "           'dd MMM YYY',\n",
    "           'd MMM, YYY',\n",
    "           'd MMMM, YYY',\n",
    "           'dd, MMM YYY',\n",
    "           'd MM YY',\n",
    "           'd MMMM YYY',\n",
    "           'MMMM d YYY',\n",
    "           'MMMM d, YYY',\n",
    "           'dd.MM.YY']\n",
    "\n",
    "LOCALES = ['en_US']\n",
    "\n",
    "def load_date():\n",
    "    dt = fake.date_object()\n",
    "\n",
    "    try:\n",
    "        human_readable = format_date(dt, format=random.choice(FORMATS),  locale='en_US') # locale=random.choice(LOCALES))\n",
    "        human_readable = human_readable.lower()\n",
    "        human_readable = human_readable.replace(',','')\n",
    "        machine_readable = dt.isoformat()\n",
    "        \n",
    "    except AttributeError as e:\n",
    "        return None, None, None\n",
    "\n",
    "    return human_readable, machine_readable, dt\n",
    "\n",
    "\n",
    "def load_dataset(m):\n",
    "    human_vocab = set()\n",
    "    machine_vocab = set()\n",
    "    dataset = []\n",
    "    Tx = 30\n",
    "    \n",
    "\n",
    "    for i in tqdm(range(m)):\n",
    "        h, m, _ = load_date()\n",
    "        if h is not None:\n",
    "            dataset.append((h, m))\n",
    "            human_vocab.update(tuple(h))\n",
    "            machine_vocab.update(tuple(m))\n",
    "    \n",
    "    human = dict(zip(sorted(human_vocab) + ['<unk>', '<pad>'], \n",
    "                     list(range(len(human_vocab) + 2))))\n",
    "    inv_machine = dict(enumerate(sorted(machine_vocab)))\n",
    "    machine = {v:k for k,v in inv_machine.items()}\n",
    " \n",
    "    return dataset, human, machine, inv_machine"
   ]
  },
  {
   "cell_type": "code",
   "execution_count": 40,
   "metadata": {
    "colab": {
     "base_uri": "https://localhost:8080/"
    },
    "executionInfo": {
     "elapsed": 16981,
     "status": "ok",
     "timestamp": 1612468514155,
     "user": {
      "displayName": "Mubsi K",
      "photoUrl": "https://lh3.googleusercontent.com/a-/AOh14Gip7OjOkdNkKxKDyWEQAq1o8ccGN_HrBTGdqjgQ=s64",
      "userId": "08094225471505108399"
     },
     "user_tz": -300
    },
    "id": "gwIf5l17h3Mg",
    "outputId": "1fca5fb8-3a9b-4a78-f726-7aef8e14ee41"
   },
   "outputs": [
    {
     "name": "stderr",
     "output_type": "stream",
     "text": [
      "100%|██████████████████████████████████| 10000/10000 [00:00<00:00, 23057.59it/s]\n"
     ]
    }
   ],
   "source": [
    "m = 10000\n",
    "dataset, human_vocab, machine_vocab, inv_machine_vocab = load_dataset(m)"
   ]
  },
  {
   "cell_type": "code",
   "execution_count": 20,
   "metadata": {
    "colab": {
     "base_uri": "https://localhost:8080/"
    },
    "executionInfo": {
     "elapsed": 16972,
     "status": "ok",
     "timestamp": 1612468514156,
     "user": {
      "displayName": "Mubsi K",
      "photoUrl": "https://lh3.googleusercontent.com/a-/AOh14Gip7OjOkdNkKxKDyWEQAq1o8ccGN_HrBTGdqjgQ=s64",
      "userId": "08094225471505108399"
     },
     "user_tz": -300
    },
    "id": "zCTqMyPch3Mg",
    "outputId": "42c9d8aa-d07b-4618-ab8a-4db4e1b971e2"
   },
   "outputs": [
    {
     "data": {
      "text/plain": [
       "[('9 may 1998', '1998-05-09'),\n",
       " ('10.11.19', '2019-11-10'),\n",
       " ('9/10/70', '1970-09-10'),\n",
       " ('saturday april 28 1990', '1990-04-28'),\n",
       " ('thursday january 26 1995', '1995-01-26'),\n",
       " ('monday march 7 1983', '1983-03-07'),\n",
       " ('sunday may 22 1988', '1988-05-22'),\n",
       " ('08 jul 2008', '2008-07-08'),\n",
       " ('8 sep 1999', '1999-09-08'),\n",
       " ('thursday january 1 1981', '1981-01-01')]"
      ]
     },
     "execution_count": 20,
     "metadata": {},
     "output_type": "execute_result"
    }
   ],
   "source": [
    "dataset[:10]"
   ]
  },
  {
   "cell_type": "code",
   "execution_count": 21,
   "metadata": {
    "colab": {
     "base_uri": "https://localhost:8080/"
    },
    "executionInfo": {
     "elapsed": 16962,
     "status": "ok",
     "timestamp": 1612468514157,
     "user": {
      "displayName": "Mubsi K",
      "photoUrl": "https://lh3.googleusercontent.com/a-/AOh14Gip7OjOkdNkKxKDyWEQAq1o8ccGN_HrBTGdqjgQ=s64",
      "userId": "08094225471505108399"
     },
     "user_tz": -300
    },
    "id": "Qdso90EBh3Mg",
    "outputId": "0a364ad8-8b25-4de3-f036-d5d8e40bdf8c"
   },
   "outputs": [
    {
     "name": "stdout",
     "output_type": "stream",
     "text": [
      "X.shape: (10000, 30)\n",
      "Y.shape: (10000, 10)\n",
      "Xoh.shape: (10000, 30, 37)\n",
      "Yoh.shape: (10000, 10, 11)\n"
     ]
    }
   ],
   "source": [
    "Tx = 30\n",
    "Ty = 10\n",
    "X, Y, Xoh, Yoh = preprocess_data(dataset, human_vocab, machine_vocab, Tx, Ty)\n",
    "\n",
    "print(\"X.shape:\", X.shape)\n",
    "print(\"Y.shape:\", Y.shape)\n",
    "print(\"Xoh.shape:\", Xoh.shape)\n",
    "print(\"Yoh.shape:\", Yoh.shape)\n"
   ]
  },
  {
   "cell_type": "code",
   "execution_count": 22,
   "metadata": {
    "colab": {
     "base_uri": "https://localhost:8080/"
    },
    "executionInfo": {
     "elapsed": 16952,
     "status": "ok",
     "timestamp": 1612468514158,
     "user": {
      "displayName": "Mubsi K",
      "photoUrl": "https://lh3.googleusercontent.com/a-/AOh14Gip7OjOkdNkKxKDyWEQAq1o8ccGN_HrBTGdqjgQ=s64",
      "userId": "08094225471505108399"
     },
     "user_tz": -300
    },
    "id": "kUOayR4gh3Mh",
    "outputId": "d20994de-bbea-4cc7-ffaf-38a05974c9db"
   },
   "outputs": [
    {
     "name": "stdout",
     "output_type": "stream",
     "text": [
      "Source date: 9 may 1998\n",
      "Target date: 1998-05-09\n",
      "\n",
      "Source after preprocessing (indices): [12  0 24 13 34  0  4 12 12 11 36 36 36 36 36 36 36 36 36 36 36 36 36 36\n",
      " 36 36 36 36 36 36]\n",
      "Target after preprocessing (indices): [ 2 10 10  9  0  1  6  0  1 10]\n",
      "\n",
      "Source after preprocessing (one-hot): [[0. 0. 0. ... 0. 0. 0.]\n",
      " [1. 0. 0. ... 0. 0. 0.]\n",
      " [0. 0. 0. ... 0. 0. 0.]\n",
      " ...\n",
      " [0. 0. 0. ... 0. 0. 1.]\n",
      " [0. 0. 0. ... 0. 0. 1.]\n",
      " [0. 0. 0. ... 0. 0. 1.]]\n",
      "Target after preprocessing (one-hot): [[0. 0. 1. 0. 0. 0. 0. 0. 0. 0. 0.]\n",
      " [0. 0. 0. 0. 0. 0. 0. 0. 0. 0. 1.]\n",
      " [0. 0. 0. 0. 0. 0. 0. 0. 0. 0. 1.]\n",
      " [0. 0. 0. 0. 0. 0. 0. 0. 0. 1. 0.]\n",
      " [1. 0. 0. 0. 0. 0. 0. 0. 0. 0. 0.]\n",
      " [0. 1. 0. 0. 0. 0. 0. 0. 0. 0. 0.]\n",
      " [0. 0. 0. 0. 0. 0. 1. 0. 0. 0. 0.]\n",
      " [1. 0. 0. 0. 0. 0. 0. 0. 0. 0. 0.]\n",
      " [0. 1. 0. 0. 0. 0. 0. 0. 0. 0. 0.]\n",
      " [0. 0. 0. 0. 0. 0. 0. 0. 0. 0. 1.]]\n"
     ]
    }
   ],
   "source": [
    "index = 0\n",
    "print(\"Source date:\", dataset[index][0])\n",
    "print(\"Target date:\", dataset[index][1])\n",
    "print()\n",
    "print(\"Source after preprocessing (indices):\", X[index])\n",
    "print(\"Target after preprocessing (indices):\", Y[index])\n",
    "print()\n",
    "print(\"Source after preprocessing (one-hot):\", Xoh[index])\n",
    "print(\"Target after preprocessing (one-hot):\", Yoh[index])"
   ]
  },
  {
   "cell_type": "code",
   "execution_count": 23,
   "metadata": {
    "executionInfo": {
     "elapsed": 16950,
     "status": "ok",
     "timestamp": 1612468514158,
     "user": {
      "displayName": "Mubsi K",
      "photoUrl": "https://lh3.googleusercontent.com/a-/AOh14Gip7OjOkdNkKxKDyWEQAq1o8ccGN_HrBTGdqjgQ=s64",
      "userId": "08094225471505108399"
     },
     "user_tz": -300
    },
    "id": "Cvop5Apyh3Mm"
   },
   "outputs": [],
   "source": [
    "# Defined shared layers as global variables\n",
    "repeator = RepeatVector(Tx)\n",
    "concatenator = Concatenate(axis=-1)\n",
    "densor1 = Dense(10, activation = \"tanh\")\n",
    "densor2 = Dense(1, activation = \"relu\")\n",
    "activator = Activation(softmax, name='attention_weights') # We are using a custom softmax(axis = 1) loaded in this notebook\n",
    "dotor = Dot(axes = 1)"
   ]
  },
  {
   "cell_type": "code",
   "execution_count": 41,
   "metadata": {
    "executionInfo": {
     "elapsed": 16950,
     "status": "ok",
     "timestamp": 1612468514159,
     "user": {
      "displayName": "Mubsi K",
      "photoUrl": "https://lh3.googleusercontent.com/a-/AOh14Gip7OjOkdNkKxKDyWEQAq1o8ccGN_HrBTGdqjgQ=s64",
      "userId": "08094225471505108399"
     },
     "user_tz": -300
    },
    "id": "mZuMOnTDh3Mn"
   },
   "outputs": [],
   "source": [
    "def one_step_attention(a, s_prev):\n",
    "    s_prev = repeator(s_prev)\n",
    "    \n",
    "    concat = concatenator([a, s_prev])\n",
    "\n",
    "    e = densor1(concat)\n",
    "\n",
    "    energies = densor2(e)\n",
    "\n",
    "    alphas = activator(energies)\n",
    "\n",
    "    context = dotor([alphas,a])\n",
    "    \n",
    "    return context"
   ]
  },
  {
   "cell_type": "code",
   "execution_count": 42,
   "metadata": {
    "executionInfo": {
     "elapsed": 16948,
     "status": "ok",
     "timestamp": 1612468514160,
     "user": {
      "displayName": "Mubsi K",
      "photoUrl": "https://lh3.googleusercontent.com/a-/AOh14Gip7OjOkdNkKxKDyWEQAq1o8ccGN_HrBTGdqjgQ=s64",
      "userId": "08094225471505108399"
     },
     "user_tz": -300
    },
    "id": "qeKbeDOvh3Mo"
   },
   "outputs": [],
   "source": [
    "def modelf(Tx, Ty, n_a, n_s, human_vocab_size, machine_vocab_size):\n",
    "    X = Input(shape=(Tx, human_vocab_size))\n",
    "    s0 = Input(shape=(n_s,), name='s0')\n",
    "    c0 = Input(shape=(n_s,), name='c0')\n",
    "    s = s0\n",
    "    c = c0\n",
    "    \n",
    "    # Initialize empty list of outputs\n",
    "    outputs = []\n",
    "    \n",
    "    a = Bidirectional(LSTM(n_a, return_sequences=True))(X)\n",
    "\n",
    "    for t in range(Ty):\n",
    "    \n",
    "        context = one_step_attention(a, s)\n",
    "        \n",
    "        s, _, c = post_activation_LSTM_cell(context,initial_state=[s, c])\n",
    "        \n",
    "        out = output_layer(s)\n",
    "        \n",
    "        outputs.append(out)\n",
    "    \n",
    "    model = Model(inputs=[X, s0, c0], outputs=outputs)\n",
    "        \n",
    "    return model"
   ]
  },
  {
   "cell_type": "markdown",
   "metadata": {
    "id": "--RX7hSsh3Mo"
   },
   "source": [
    "### Create Model"
   ]
  },
  {
   "cell_type": "code",
   "execution_count": 43,
   "metadata": {
    "executionInfo": {
     "elapsed": 20837,
     "status": "ok",
     "timestamp": 1612468518050,
     "user": {
      "displayName": "Mubsi K",
      "photoUrl": "https://lh3.googleusercontent.com/a-/AOh14Gip7OjOkdNkKxKDyWEQAq1o8ccGN_HrBTGdqjgQ=s64",
      "userId": "08094225471505108399"
     },
     "user_tz": -300
    },
    "id": "psdd-Ac6h3Mp"
   },
   "outputs": [],
   "source": [
    "model = modelf(Tx, Ty, n_a, n_s, len(human_vocab), len(machine_vocab))"
   ]
  },
  {
   "cell_type": "markdown",
   "metadata": {
    "id": "VgeU_I9_h3Mp"
   },
   "source": [
    "### get a summary of the model"
   ]
  },
  {
   "cell_type": "code",
   "execution_count": 29,
   "metadata": {
    "colab": {
     "base_uri": "https://localhost:8080/"
    },
    "executionInfo": {
     "elapsed": 20835,
     "status": "ok",
     "timestamp": 1612468518050,
     "user": {
      "displayName": "Mubsi K",
      "photoUrl": "https://lh3.googleusercontent.com/a-/AOh14Gip7OjOkdNkKxKDyWEQAq1o8ccGN_HrBTGdqjgQ=s64",
      "userId": "08094225471505108399"
     },
     "user_tz": -300
    },
    "id": "tX0vaYmPh3Mq",
    "outputId": "336b9248-70b0-4379-be95-95366874c02a"
   },
   "outputs": [
    {
     "name": "stdout",
     "output_type": "stream",
     "text": [
      "Model: \"model\"\n",
      "__________________________________________________________________________________________________\n",
      " Layer (type)                   Output Shape         Param #     Connected to                     \n",
      "==================================================================================================\n",
      " input_1 (InputLayer)           [(None, 30, 37)]     0           []                               \n",
      "                                                                                                  \n",
      " s0 (InputLayer)                [(None, 64)]         0           []                               \n",
      "                                                                                                  \n",
      " bidirectional (Bidirectional)  (None, 30, 64)       17920       ['input_1[0][0]']                \n",
      "                                                                                                  \n",
      " repeat_vector (RepeatVector)   (None, 30, 64)       0           ['s0[0][0]',                     \n",
      "                                                                  'lstm[0][0]',                   \n",
      "                                                                  'lstm[1][0]',                   \n",
      "                                                                  'lstm[2][0]',                   \n",
      "                                                                  'lstm[3][0]',                   \n",
      "                                                                  'lstm[4][0]',                   \n",
      "                                                                  'lstm[5][0]',                   \n",
      "                                                                  'lstm[6][0]',                   \n",
      "                                                                  'lstm[7][0]',                   \n",
      "                                                                  'lstm[8][0]']                   \n",
      "                                                                                                  \n",
      " concatenate (Concatenate)      (None, 30, 128)      0           ['bidirectional[0][0]',          \n",
      "                                                                  'repeat_vector[0][0]',          \n",
      "                                                                  'bidirectional[0][0]',          \n",
      "                                                                  'repeat_vector[1][0]',          \n",
      "                                                                  'bidirectional[0][0]',          \n",
      "                                                                  'repeat_vector[2][0]',          \n",
      "                                                                  'bidirectional[0][0]',          \n",
      "                                                                  'repeat_vector[3][0]',          \n",
      "                                                                  'bidirectional[0][0]',          \n",
      "                                                                  'repeat_vector[4][0]',          \n",
      "                                                                  'bidirectional[0][0]',          \n",
      "                                                                  'repeat_vector[5][0]',          \n",
      "                                                                  'bidirectional[0][0]',          \n",
      "                                                                  'repeat_vector[6][0]',          \n",
      "                                                                  'bidirectional[0][0]',          \n",
      "                                                                  'repeat_vector[7][0]',          \n",
      "                                                                  'bidirectional[0][0]',          \n",
      "                                                                  'repeat_vector[8][0]',          \n",
      "                                                                  'bidirectional[0][0]',          \n",
      "                                                                  'repeat_vector[9][0]']          \n",
      "                                                                                                  \n",
      " dense (Dense)                  (None, 30, 10)       1290        ['concatenate[0][0]',            \n",
      "                                                                  'concatenate[1][0]',            \n",
      "                                                                  'concatenate[2][0]',            \n",
      "                                                                  'concatenate[3][0]',            \n",
      "                                                                  'concatenate[4][0]',            \n",
      "                                                                  'concatenate[5][0]',            \n",
      "                                                                  'concatenate[6][0]',            \n",
      "                                                                  'concatenate[7][0]',            \n",
      "                                                                  'concatenate[8][0]',            \n",
      "                                                                  'concatenate[9][0]']            \n",
      "                                                                                                  \n",
      " dense_1 (Dense)                (None, 30, 1)        11          ['dense[0][0]',                  \n",
      "                                                                  'dense[1][0]',                  \n",
      "                                                                  'dense[2][0]',                  \n",
      "                                                                  'dense[3][0]',                  \n",
      "                                                                  'dense[4][0]',                  \n",
      "                                                                  'dense[5][0]',                  \n",
      "                                                                  'dense[6][0]',                  \n",
      "                                                                  'dense[7][0]',                  \n",
      "                                                                  'dense[8][0]',                  \n",
      "                                                                  'dense[9][0]']                  \n",
      "                                                                                                  \n",
      " attention_weights (Activation)  (None, 30, 1)       0           ['dense_1[0][0]',                \n",
      "                                                                  'dense_1[1][0]',                \n",
      "                                                                  'dense_1[2][0]',                \n",
      "                                                                  'dense_1[3][0]',                \n",
      "                                                                  'dense_1[4][0]',                \n",
      "                                                                  'dense_1[5][0]',                \n",
      "                                                                  'dense_1[6][0]',                \n",
      "                                                                  'dense_1[7][0]',                \n",
      "                                                                  'dense_1[8][0]',                \n",
      "                                                                  'dense_1[9][0]']                \n",
      "                                                                                                  \n",
      " dot (Dot)                      (None, 1, 64)        0           ['attention_weights[0][0]',      \n",
      "                                                                  'bidirectional[0][0]',          \n",
      "                                                                  'attention_weights[1][0]',      \n",
      "                                                                  'bidirectional[0][0]',          \n",
      "                                                                  'attention_weights[2][0]',      \n",
      "                                                                  'bidirectional[0][0]',          \n",
      "                                                                  'attention_weights[3][0]',      \n",
      "                                                                  'bidirectional[0][0]',          \n",
      "                                                                  'attention_weights[4][0]',      \n"
     ]
    },
    {
     "name": "stdout",
     "output_type": "stream",
     "text": [
      "                                                                  'bidirectional[0][0]',          \n",
      "                                                                  'attention_weights[5][0]',      \n",
      "                                                                  'bidirectional[0][0]',          \n",
      "                                                                  'attention_weights[6][0]',      \n",
      "                                                                  'bidirectional[0][0]',          \n",
      "                                                                  'attention_weights[7][0]',      \n",
      "                                                                  'bidirectional[0][0]',          \n",
      "                                                                  'attention_weights[8][0]',      \n",
      "                                                                  'bidirectional[0][0]',          \n",
      "                                                                  'attention_weights[9][0]',      \n",
      "                                                                  'bidirectional[0][0]']          \n",
      "                                                                                                  \n",
      " c0 (InputLayer)                [(None, 64)]         0           []                               \n",
      "                                                                                                  \n",
      " lstm (LSTM)                    [(None, 64),         33024       ['dot[0][0]',                    \n",
      "                                 (None, 64),                      's0[0][0]',                     \n",
      "                                 (None, 64)]                      'c0[0][0]',                     \n",
      "                                                                  'dot[1][0]',                    \n",
      "                                                                  'lstm[0][0]',                   \n",
      "                                                                  'lstm[0][2]',                   \n",
      "                                                                  'dot[2][0]',                    \n",
      "                                                                  'lstm[1][0]',                   \n",
      "                                                                  'lstm[1][2]',                   \n",
      "                                                                  'dot[3][0]',                    \n",
      "                                                                  'lstm[2][0]',                   \n",
      "                                                                  'lstm[2][2]',                   \n",
      "                                                                  'dot[4][0]',                    \n",
      "                                                                  'lstm[3][0]',                   \n",
      "                                                                  'lstm[3][2]',                   \n",
      "                                                                  'dot[5][0]',                    \n",
      "                                                                  'lstm[4][0]',                   \n",
      "                                                                  'lstm[4][2]',                   \n",
      "                                                                  'dot[6][0]',                    \n",
      "                                                                  'lstm[5][0]',                   \n",
      "                                                                  'lstm[5][2]',                   \n",
      "                                                                  'dot[7][0]',                    \n",
      "                                                                  'lstm[6][0]',                   \n",
      "                                                                  'lstm[6][2]',                   \n",
      "                                                                  'dot[8][0]',                    \n",
      "                                                                  'lstm[7][0]',                   \n",
      "                                                                  'lstm[7][2]',                   \n",
      "                                                                  'dot[9][0]',                    \n",
      "                                                                  'lstm[8][0]',                   \n",
      "                                                                  'lstm[8][2]']                   \n",
      "                                                                                                  \n",
      " dense_2 (Dense)                (None, 11)           715         ['lstm[0][0]',                   \n",
      "                                                                  'lstm[1][0]',                   \n",
      "                                                                  'lstm[2][0]',                   \n",
      "                                                                  'lstm[3][0]',                   \n",
      "                                                                  'lstm[4][0]',                   \n",
      "                                                                  'lstm[5][0]',                   \n",
      "                                                                  'lstm[6][0]',                   \n",
      "                                                                  'lstm[7][0]',                   \n",
      "                                                                  'lstm[8][0]',                   \n",
      "                                                                  'lstm[9][0]']                   \n",
      "                                                                                                  \n",
      "==================================================================================================\n",
      "Total params: 52,960\n",
      "Trainable params: 52,960\n",
      "Non-trainable params: 0\n",
      "__________________________________________________________________________________________________\n"
     ]
    }
   ],
   "source": [
    "model.summary()"
   ]
  },
  {
   "cell_type": "markdown",
   "metadata": {},
   "source": [
    "### Compile model"
   ]
  },
  {
   "cell_type": "code",
   "execution_count": 44,
   "metadata": {
    "executionInfo": {
     "elapsed": 20835,
     "status": "ok",
     "timestamp": 1612468518051,
     "user": {
      "displayName": "Mubsi K",
      "photoUrl": "https://lh3.googleusercontent.com/a-/AOh14Gip7OjOkdNkKxKDyWEQAq1o8ccGN_HrBTGdqjgQ=s64",
      "userId": "08094225471505108399"
     },
     "user_tz": -300
    },
    "id": "sBFRJ49rh3Ms"
   },
   "outputs": [],
   "source": [
    "opt = Adam(learning_rate=0.005, beta_1=0.9, beta_2=0.999, decay=0.01) # Adam(...) \n",
    "model.compile(loss = 'categorical_crossentropy', optimizer = opt, metrics = ['accuracy'])"
   ]
  },
  {
   "cell_type": "code",
   "execution_count": 45,
   "metadata": {
    "executionInfo": {
     "elapsed": 20833,
     "status": "ok",
     "timestamp": 1612468518051,
     "user": {
      "displayName": "Mubsi K",
      "photoUrl": "https://lh3.googleusercontent.com/a-/AOh14Gip7OjOkdNkKxKDyWEQAq1o8ccGN_HrBTGdqjgQ=s64",
      "userId": "08094225471505108399"
     },
     "user_tz": -300
    },
    "id": "USFiNKYhh3Mt"
   },
   "outputs": [],
   "source": [
    "s0 = np.zeros((m, n_s))\n",
    "c0 = np.zeros((m, n_s))\n",
    "outputs = list(Yoh.swapaxes(0,1))"
   ]
  },
  {
   "cell_type": "markdown",
   "metadata": {
    "id": "FVkITGi3h3Mt"
   },
   "source": [
    "### now fit the model and run it for 10 epoch."
   ]
  },
  {
   "cell_type": "code",
   "execution_count": 35,
   "metadata": {
    "colab": {
     "base_uri": "https://localhost:8080/"
    },
    "executionInfo": {
     "elapsed": 47944,
     "status": "ok",
     "timestamp": 1612468545172,
     "user": {
      "displayName": "Mubsi K",
      "photoUrl": "https://lh3.googleusercontent.com/a-/AOh14Gip7OjOkdNkKxKDyWEQAq1o8ccGN_HrBTGdqjgQ=s64",
      "userId": "08094225471505108399"
     },
     "user_tz": -300
    },
    "id": "tPuwY45bh3Mt",
    "outputId": "ec9dfc4c-1dcb-4577-d872-474f79c60d5f"
   },
   "outputs": [
    {
     "name": "stdout",
     "output_type": "stream",
     "text": [
      "Epoch 1/10\n",
      "  1/100 [..............................] - ETA: 6s - loss: 9.8319 - dense_2_loss: 0.2838 - dense_2_1_loss: 0.1840 - dense_2_2_loss: 1.1658 - dense_2_3_loss: 2.3313 - dense_2_4_loss: 0.0136 - dense_2_5_loss: 0.3761 - dense_2_6_loss: 2.0790 - dense_2_7_loss: 0.0170 - dense_2_8_loss: 1.1302 - dense_2_9_loss: 2.2510 - dense_2_accuracy: 0.9800 - dense_2_1_accuracy: 0.9500 - dense_2_2_accuracy: 0.4800 - dense_2_3_accuracy: 0.1000 - dense_2_4_accuracy: 1.0000 - dense_2_5_accuracy: 0.8800 - dense_2_6_accuracy: 0.1900 - dense_2_7_accuracy: 1.0000 - dense_2_8_accuracy: 0.5000 - dense_2_9_accuracy: 0.1600"
     ]
    },
    {
     "name": "stderr",
     "output_type": "stream",
     "text": [
      "2022-06-11 18:59:25.098989: W tensorflow/core/framework/cpu_allocator_impl.cc:82] Allocation of 44400000 exceeds 10% of free system memory.\n"
     ]
    },
    {
     "name": "stdout",
     "output_type": "stream",
     "text": [
      "100/100 [==============================] - 5s 54ms/step - loss: 9.2711 - dense_2_loss: 0.2031 - dense_2_1_loss: 0.1391 - dense_2_2_loss: 1.1088 - dense_2_3_loss: 2.2272 - dense_2_4_loss: 0.0119 - dense_2_5_loss: 0.2724 - dense_2_6_loss: 1.8390 - dense_2_7_loss: 0.0112 - dense_2_8_loss: 1.2023 - dense_2_9_loss: 2.2560 - dense_2_accuracy: 0.9579 - dense_2_1_accuracy: 0.9610 - dense_2_2_accuracy: 0.5139 - dense_2_3_accuracy: 0.1869 - dense_2_4_accuracy: 1.0000 - dense_2_5_accuracy: 0.9267 - dense_2_6_accuracy: 0.3000 - dense_2_7_accuracy: 1.0000 - dense_2_8_accuracy: 0.4428 - dense_2_9_accuracy: 0.1546\n",
      "Epoch 2/10\n",
      "100/100 [==============================] - 6s 57ms/step - loss: 8.1684 - dense_2_loss: 0.1404 - dense_2_1_loss: 0.1013 - dense_2_2_loss: 0.9829 - dense_2_3_loss: 2.0670 - dense_2_4_loss: 0.0104 - dense_2_5_loss: 0.1776 - dense_2_6_loss: 1.4417 - dense_2_7_loss: 0.0079 - dense_2_8_loss: 1.0958 - dense_2_9_loss: 2.1435 - dense_2_accuracy: 0.9672 - dense_2_1_accuracy: 0.9692 - dense_2_2_accuracy: 0.5742 - dense_2_3_accuracy: 0.2495 - dense_2_4_accuracy: 1.0000 - dense_2_5_accuracy: 0.9592 - dense_2_6_accuracy: 0.5066 - dense_2_7_accuracy: 1.0000 - dense_2_8_accuracy: 0.5142 - dense_2_9_accuracy: 0.2051\n",
      "Epoch 3/10\n",
      "100/100 [==============================] - 6s 56ms/step - loss: 7.4526 - dense_2_loss: 0.1174 - dense_2_1_loss: 0.0858 - dense_2_2_loss: 0.8995 - dense_2_3_loss: 1.9001 - dense_2_4_loss: 0.0096 - dense_2_5_loss: 0.1463 - dense_2_6_loss: 1.2317 - dense_2_7_loss: 0.0065 - dense_2_8_loss: 1.0098 - dense_2_9_loss: 2.0459 - dense_2_accuracy: 0.9702 - dense_2_1_accuracy: 0.9741 - dense_2_2_accuracy: 0.6206 - dense_2_3_accuracy: 0.3151 - dense_2_4_accuracy: 1.0000 - dense_2_5_accuracy: 0.9682 - dense_2_6_accuracy: 0.5959 - dense_2_7_accuracy: 1.0000 - dense_2_8_accuracy: 0.5632 - dense_2_9_accuracy: 0.2453\n",
      "Epoch 4/10\n",
      "100/100 [==============================] - 5s 52ms/step - loss: 6.9051 - dense_2_loss: 0.1055 - dense_2_1_loss: 0.0771 - dense_2_2_loss: 0.8301 - dense_2_3_loss: 1.7560 - dense_2_4_loss: 0.0083 - dense_2_5_loss: 0.1329 - dense_2_6_loss: 1.0955 - dense_2_7_loss: 0.0066 - dense_2_8_loss: 0.9541 - dense_2_9_loss: 1.9390 - dense_2_accuracy: 0.9741 - dense_2_1_accuracy: 0.9775 - dense_2_2_accuracy: 0.6579 - dense_2_3_accuracy: 0.3662 - dense_2_4_accuracy: 0.9999 - dense_2_5_accuracy: 0.9698 - dense_2_6_accuracy: 0.6404 - dense_2_7_accuracy: 1.0000 - dense_2_8_accuracy: 0.5946 - dense_2_9_accuracy: 0.2873\n",
      "Epoch 5/10\n",
      "100/100 [==============================] - 6s 61ms/step - loss: 6.4983 - dense_2_loss: 0.0988 - dense_2_1_loss: 0.0747 - dense_2_2_loss: 0.7820 - dense_2_3_loss: 1.6232 - dense_2_4_loss: 0.0076 - dense_2_5_loss: 0.1273 - dense_2_6_loss: 1.0389 - dense_2_7_loss: 0.0072 - dense_2_8_loss: 0.9047 - dense_2_9_loss: 1.8339 - dense_2_accuracy: 0.9753 - dense_2_1_accuracy: 0.9770 - dense_2_2_accuracy: 0.6835 - dense_2_3_accuracy: 0.4185 - dense_2_4_accuracy: 1.0000 - dense_2_5_accuracy: 0.9709 - dense_2_6_accuracy: 0.6476 - dense_2_7_accuracy: 1.0000 - dense_2_8_accuracy: 0.6226 - dense_2_9_accuracy: 0.3258\n",
      "Epoch 6/10\n",
      "100/100 [==============================] - 6s 61ms/step - loss: 6.1830 - dense_2_loss: 0.0919 - dense_2_1_loss: 0.0715 - dense_2_2_loss: 0.7537 - dense_2_3_loss: 1.5264 - dense_2_4_loss: 0.0062 - dense_2_5_loss: 0.1192 - dense_2_6_loss: 0.9902 - dense_2_7_loss: 0.0070 - dense_2_8_loss: 0.8622 - dense_2_9_loss: 1.7547 - dense_2_accuracy: 0.9767 - dense_2_1_accuracy: 0.9792 - dense_2_2_accuracy: 0.6942 - dense_2_3_accuracy: 0.4495 - dense_2_4_accuracy: 1.0000 - dense_2_5_accuracy: 0.9716 - dense_2_6_accuracy: 0.6651 - dense_2_7_accuracy: 1.0000 - dense_2_8_accuracy: 0.6484 - dense_2_9_accuracy: 0.3584\n",
      "Epoch 7/10\n",
      "100/100 [==============================] - 6s 61ms/step - loss: 5.9149 - dense_2_loss: 0.0879 - dense_2_1_loss: 0.0696 - dense_2_2_loss: 0.7289 - dense_2_3_loss: 1.4459 - dense_2_4_loss: 0.0056 - dense_2_5_loss: 0.1128 - dense_2_6_loss: 0.9446 - dense_2_7_loss: 0.0068 - dense_2_8_loss: 0.8241 - dense_2_9_loss: 1.6886 - dense_2_accuracy: 0.9775 - dense_2_1_accuracy: 0.9798 - dense_2_2_accuracy: 0.7053 - dense_2_3_accuracy: 0.4771 - dense_2_4_accuracy: 1.0000 - dense_2_5_accuracy: 0.9748 - dense_2_6_accuracy: 0.6838 - dense_2_7_accuracy: 1.0000 - dense_2_8_accuracy: 0.6633 - dense_2_9_accuracy: 0.3783\n",
      "Epoch 8/10\n",
      "100/100 [==============================] - 6s 61ms/step - loss: 5.6975 - dense_2_loss: 0.0838 - dense_2_1_loss: 0.0667 - dense_2_2_loss: 0.7109 - dense_2_3_loss: 1.3857 - dense_2_4_loss: 0.0051 - dense_2_5_loss: 0.1091 - dense_2_6_loss: 0.9060 - dense_2_7_loss: 0.0061 - dense_2_8_loss: 0.7906 - dense_2_9_loss: 1.6335 - dense_2_accuracy: 0.9785 - dense_2_1_accuracy: 0.9810 - dense_2_2_accuracy: 0.7146 - dense_2_3_accuracy: 0.4999 - dense_2_4_accuracy: 1.0000 - dense_2_5_accuracy: 0.9755 - dense_2_6_accuracy: 0.7009 - dense_2_7_accuracy: 1.0000 - dense_2_8_accuracy: 0.6835 - dense_2_9_accuracy: 0.4014\n",
      "Epoch 9/10\n",
      "100/100 [==============================] - 6s 60ms/step - loss: 5.4987 - dense_2_loss: 0.0810 - dense_2_1_loss: 0.0666 - dense_2_2_loss: 0.6965 - dense_2_3_loss: 1.3298 - dense_2_4_loss: 0.0048 - dense_2_5_loss: 0.1048 - dense_2_6_loss: 0.8651 - dense_2_7_loss: 0.0062 - dense_2_8_loss: 0.7622 - dense_2_9_loss: 1.5816 - dense_2_accuracy: 0.9798 - dense_2_1_accuracy: 0.9804 - dense_2_2_accuracy: 0.7219 - dense_2_3_accuracy: 0.5186 - dense_2_4_accuracy: 1.0000 - dense_2_5_accuracy: 0.9768 - dense_2_6_accuracy: 0.7141 - dense_2_7_accuracy: 1.0000 - dense_2_8_accuracy: 0.6926 - dense_2_9_accuracy: 0.4151\n",
      "Epoch 10/10\n",
      "100/100 [==============================] - 6s 61ms/step - loss: 5.3132 - dense_2_loss: 0.0788 - dense_2_1_loss: 0.0650 - dense_2_2_loss: 0.6766 - dense_2_3_loss: 1.2785 - dense_2_4_loss: 0.0044 - dense_2_5_loss: 0.1027 - dense_2_6_loss: 0.8322 - dense_2_7_loss: 0.0058 - dense_2_8_loss: 0.7346 - dense_2_9_loss: 1.5346 - dense_2_accuracy: 0.9801 - dense_2_1_accuracy: 0.9807 - dense_2_2_accuracy: 0.7286 - dense_2_3_accuracy: 0.5315 - dense_2_4_accuracy: 1.0000 - dense_2_5_accuracy: 0.9780 - dense_2_6_accuracy: 0.7316 - dense_2_7_accuracy: 1.0000 - dense_2_8_accuracy: 0.7079 - dense_2_9_accuracy: 0.4325\n"
     ]
    },
    {
     "data": {
      "text/plain": [
       "<keras.callbacks.History at 0x7fbe3d762a60>"
      ]
     },
     "execution_count": 35,
     "metadata": {},
     "output_type": "execute_result"
    }
   ],
   "source": [
    "model.fit([Xoh, s0, c0], outputs, epochs=10, batch_size=100)"
   ]
  },
  {
   "cell_type": "code",
   "execution_count": null,
   "metadata": {},
   "outputs": [],
   "source": [
    "### Test"
   ]
  },
  {
   "cell_type": "code",
   "execution_count": 46,
   "metadata": {
    "colab": {
     "base_uri": "https://localhost:8080/"
    },
    "executionInfo": {
     "elapsed": 53835,
     "status": "ok",
     "timestamp": 1612468551077,
     "user": {
      "displayName": "Mubsi K",
      "photoUrl": "https://lh3.googleusercontent.com/a-/AOh14Gip7OjOkdNkKxKDyWEQAq1o8ccGN_HrBTGdqjgQ=s64",
      "userId": "08094225471505108399"
     },
     "user_tz": -300
    },
    "id": "rQ8sd_cuh3Mv",
    "outputId": "c37e92ac-5c60-4caf-b843-6aaeaa37be25"
   },
   "outputs": [
    {
     "name": "stdout",
     "output_type": "stream",
     "text": [
      "source: 3 May 1979\n",
      "output: 222---1111 \n",
      "\n",
      "source: 5 April 09\n",
      "output: 222---1111 \n",
      "\n",
      "source: 21th of August 2016\n",
      "output: 222----111 \n",
      "\n",
      "source: Tue 10 Jul 2007\n",
      "output: 222----111 \n",
      "\n",
      "source: Saturday May 9 2018\n",
      "output: 221----111 \n",
      "\n",
      "source: March 3 2001\n",
      "output: 221----111 \n",
      "\n",
      "source: March 3rd 2001\n",
      "output: 221----111 \n",
      "\n",
      "source: 1 March 2001\n",
      "output: 221----111 \n",
      "\n"
     ]
    }
   ],
   "source": [
    "EXAMPLES = ['3 May 1979', '5 April 09', '21th of August 2016', 'Tue 10 Jul 2007', 'Saturday May 9 2018', 'March 3 2001', 'March 3rd 2001', '1 March 2001']\n",
    "s00 = np.zeros((1, n_s))\n",
    "c00 = np.zeros((1, n_s))\n",
    "for example in EXAMPLES:\n",
    "    source = string_to_int(example, Tx, human_vocab)\n",
    "    #print(source)\n",
    "    source = np.array(list(map(lambda x: to_categorical(x, num_classes=len(human_vocab)), source))).swapaxes(0,1)\n",
    "    source = np.swapaxes(source, 0, 1)\n",
    "    source = np.expand_dims(source, axis=0)\n",
    "    prediction = model.predict([source, s00, c00])\n",
    "    prediction = np.argmax(prediction, axis = -1)\n",
    "    output = [inv_machine_vocab[int(i)] for i in prediction]\n",
    "    print(\"source:\", example)\n",
    "    print(\"output:\", ''.join(output),\"\\n\")"
   ]
  }
 ],
 "metadata": {
  "colab": {
   "collapsed_sections": [],
   "name": "Solution_Neural_machine_translation_with_attention_v4a.ipynb",
   "provenance": []
  },
  "coursera": {
   "schema_names": [
    "DLSC5W3-1A"
   ]
  },
  "kernelspec": {
   "display_name": "Python 3 (ipykernel)",
   "language": "python",
   "name": "python3"
  },
  "language_info": {
   "codemirror_mode": {
    "name": "ipython",
    "version": 3
   },
   "file_extension": ".py",
   "mimetype": "text/x-python",
   "name": "python",
   "nbconvert_exporter": "python",
   "pygments_lexer": "ipython3",
   "version": "3.8.10"
  }
 },
 "nbformat": 4,
 "nbformat_minor": 1
}
